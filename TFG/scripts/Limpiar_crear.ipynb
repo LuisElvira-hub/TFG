{
 "cells": [
  {
   "cell_type": "code",
   "execution_count": 6,
   "id": "110281d5",
   "metadata": {},
   "outputs": [],
   "source": [
    "import pandas as pd\n",
    "import re #lo usaremos para manipular texto cuando limpiemos \n",
    "verdad=pd.read_csv(\"datos/True.csv\")\n",
    "mentira=pd.read_csv(\"datos/Fake.csv\")\n",
    "verdadesp=pd.read_csv(\"datos/verdaderosesp.csv\", encoding=\"latin1\")\n",
    "mentiraesp=pd.read_csv(\"datos/falsosesp.csv\", encoding=\"latin1\")\n",
    "#print(verdad.head())\n",
    "#print(mentira.head())\n",
    "#print(verdadesp.head())\n",
    "#print(mentiraesp.head())\n",
    "#Aqui importo los datos y pandas"
   ]
  },
  {
   "cell_type": "code",
   "execution_count": 7,
   "id": "1c8edd29",
   "metadata": {},
   "outputs": [],
   "source": [
    "#vamos a mirar como son estos datasets\n",
    "#print(\"Estos son los subjects de verdad \",verdad[\"subject\"].value_counts())\n",
    "#print(\"--------------------------------------------------------\")\n",
    "#print(\"Estos son los subjects de mentira \", mentira[\"subject\"].value_counts())"
   ]
  },
  {
   "cell_type": "code",
   "execution_count": 8,
   "id": "2f155a54",
   "metadata": {},
   "outputs": [
    {
     "name": "stdout",
     "output_type": "stream",
     "text": [
      "                                               title  \\\n",
      "0  Algeria says Jerusalem announcement 'blatant v...   \n",
      "1  U.S. lawmakers want health agencies to lower p...   \n",
      "2  LATINO TRUMP SUPPORTER: “It was harder to come...   \n",
      "3  Trump blasts 'rigged' rules on picking Republi...   \n",
      "4  Mexico welcomes U.S. NAFTA objectives, eyes st...   \n",
      "\n",
      "                                                text  Veracidad  \n",
      "0  TUNIS (Reuters) - Algeria is deeply concerned ...          1  \n",
      "1  (Reuters) - A group of lawmakers is calling on...          1  \n",
      "2  This guy is great! He describes how it was to ...          0  \n",
      "3  WASHINGTON (Reuters) - Republican presidential...          1  \n",
      "4  MEXICO CITY (Reuters) - Mexico’s government on...          1  \n"
     ]
    }
   ],
   "source": [
    "#Aqui metemos unas labels para saber si son verdaderos o falsos, y los juntamos. Ignoramos el index para que no afecte el orden\n",
    "verdad[\"Veracidad\"]=1\n",
    "verdadesp[\"Veracidad\"]=1\n",
    "mentira[\"Veracidad\"]=0\n",
    "mentiraesp[\"Veracidad\"]=0\n",
    "noticias=pd.concat([verdad,mentira], ignore_index=True)\n",
    "noticiasesp=pd.concat([verdadesp,mentiraesp], ignore_index=True)\n",
    "#vamos a mezclarlos para que no se sepa cual es cual, el frac=1 permite que se le haga al 100% de las noticias, y reseteamos el indice para que no esté desordenado\n",
    "noticias=noticias.sample(frac=1).reset_index(drop=True)\n",
    "noticiasesp=noticiasesp.sample(frac=1).reset_index(drop=True)\n",
    "#print(noticias.head())\n",
    "#Vamos a dropear las columnas que no nos interesan\n",
    "noticias=noticias[[\"title\",\"text\",\"Veracidad\"]]\n",
    "print(noticias.head())"
   ]
  },
  {
   "cell_type": "code",
   "execution_count": null,
   "id": "0bc278bf",
   "metadata": {},
   "outputs": [
    {
     "name": "stdout",
     "output_type": "stream",
     "text": [
      "Dataset limpiado y creado, NÚMERO DE SAMPLES ES  46898\n"
     ]
    },
    {
     "ename": "",
     "evalue": "",
     "output_type": "error",
     "traceback": [
      "\u001b[1;31mThe Kernel crashed while executing code in the current cell or a previous cell. \n",
      "\u001b[1;31mPlease review the code in the cell(s) to identify a possible cause of the failure. \n",
      "\u001b[1;31mClick <a href='https://aka.ms/vscodeJupyterKernelCrash'>here</a> for more info. \n",
      "\u001b[1;31mView Jupyter <a href='command:jupyter.viewOutput'>log</a> for further details."
     ]
    }
   ],
   "source": [
    "#ahora vamos a llevar a cabo una limpieza del texto para permitir que el NLP funcione de forma efectiva.\n",
    "#primero mezclamos el titulo y el texto en la misma clase de texto\n",
    "noticias[\"text\"]=noticias[\"title\"]+\" \"+noticias[\"text\"]\n",
    "#lo limpiamos para que no tenga url's, ni puntuación y espacios extra\n",
    "def limpiador(text):\n",
    "    text=text.lower()\n",
    "    text=re.sub(r\"http\\S+\",\"\",text)\n",
    "    text=re.sub(r\"[^a-zA-ZñÑáéíóúÁÉÍÓÚüÜçÇ\\s]\",\"\",text) #así limpiamos los caracteres que no vamos a poder leer bien\n",
    "    text=re.sub(r\"\\s+\",\" \",text).strip()\n",
    "    return text\n",
    "noticias[\"text\"]=noticias[\"text\"].apply(limpiador)\n",
    "noticiasesp[\"text\"]=noticiasesp[\"text\"].apply(limpiador)\n",
    "#print(noticias.head())\n",
    "#ahora dropeamos tambien title\n",
    "noticias=noticias[[\"text\",\"Veracidad\"]]\n",
    "noticias=pd.concat([noticias,noticiasesp], ignore_index=True)\n",
    "noticias=noticias.sample(frac=1).reset_index(drop=True)\n",
    "#print(noticias.head())\n",
    "#lo guardamos\n",
    "noticias.to_csv(\"datos/noticiaslimpias.csv\", index=False)\n",
    "print(\"Dataset limpiado y creado, NÚMERO DE SAMPLES ES \", len(noticias))\n"
   ]
  }
 ],
 "metadata": {
  "kernelspec": {
   "display_name": "Python 3",
   "language": "python",
   "name": "python3"
  },
  "language_info": {
   "codemirror_mode": {
    "name": "ipython",
    "version": 3
   },
   "file_extension": ".py",
   "mimetype": "text/x-python",
   "name": "python",
   "nbconvert_exporter": "python",
   "pygments_lexer": "ipython3",
   "version": "3.12.5"
  }
 },
 "nbformat": 4,
 "nbformat_minor": 5
}
